{
 "cells": [
  {
   "cell_type": "markdown",
   "metadata": {},
   "source": [
    "## IMPORTING REQUIRED LIBRARIES"
   ]
  },
  {
   "cell_type": "code",
   "execution_count": 1,
   "metadata": {
    "id": "djuGHrB9mEKr"
   },
   "outputs": [],
   "source": [
    "import numpy as np\n",
    "import plotly.graph_objects as go\n",
    "import ipywidgets as widgets\n",
    "from IPython.display import display\n",
    "import vtk"
   ]
  },
  {
   "cell_type": "markdown",
   "metadata": {},
   "source": [
    "## FETCHING AND READING THE VTI DATA"
   ]
  },
  {
   "cell_type": "code",
   "execution_count": 2,
   "metadata": {
    "id": "UgggngQymF1P"
   },
   "outputs": [],
   "source": [
    "reader = vtk.vtkXMLImageDataReader()\n",
    "reader.SetFileName(\"mixture.vti\")\n",
    "reader.Update()\n",
    "data = reader.GetOutput()\n",
    "scalar_f = data.GetPointData().GetScalars()\n",
    "dims = data.GetDimensions()"
   ]
  },
  {
   "cell_type": "markdown",
   "metadata": {},
   "source": [
    "## CREATING MESH USING X, Y AND Z COORDINATE DATA AND CONVERTING IT TO PLOTLY DATATYPE"
   ]
  },
  {
   "cell_type": "code",
   "execution_count": 3,
   "metadata": {
    "id": "QHvsvcfumUoL"
   },
   "outputs": [],
   "source": [
    "origin = data.GetOrigin()\n",
    "spacing = data.GetSpacing()\n",
    "x = np.linspace(origin[0], origin[0] + spacing[0] * (dims[0] - 1), dims[0])\n",
    "y = np.linspace(origin[1], origin[1] + spacing[1] * (dims[1] - 1), dims[1])\n",
    "z = np.linspace(origin[2], origin[2] + spacing[2] * (dims[2] - 1), dims[2])\n",
    "X, Y, Z = np.meshgrid(x, y, z, indexing='ij')\n",
    "scalar_values = np.array(scalar_f).reshape(dims, order='F')"
   ]
  },
  {
   "cell_type": "markdown",
   "metadata": {},
   "source": [
    "## CREATING A FIGURE WIDGET FOR THE ISOSURFACE WITH INITIAL ISOVALUE AS 0.0"
   ]
  },
  {
   "cell_type": "code",
   "execution_count": 4,
   "metadata": {
    "id": "vEPrwpkdmYGm"
   },
   "outputs": [
    {
     "data": {
      "application/vnd.jupyter.widget-view+json": {
       "model_id": "84b32bfd53da4d5886717cacac894368",
       "version_major": 2,
       "version_minor": 0
      },
      "text/plain": [
       "FigureWidget({\n",
       "    'data': [{'cmax': 0.43280163,\n",
       "              'cmin': -0.99355406,\n",
       "              'colorscale': [[0.0, '#0d0887'], [0.1111111111111111, '#46039f'],\n",
       "                             [0.2222222222222222, '#7201a8'], [0.3333333333333333,\n",
       "                             '#9c179e'], [0.4444444444444444, '#bd3786'],\n",
       "                             [0.5555555555555556, '#d8576b'], [0.6666666666666666,\n",
       "                             '#ed7953'], [0.7777777777777778, '#fb9f3a'],\n",
       "                             [0.8888888888888888, '#fdca26'], [1.0, '#f0f921']],\n",
       "              'isomax': 0.0,\n",
       "              'isomin': 0.0,\n",
       "              'showscale': False,\n",
       "              'type': 'isosurface',\n",
       "              'uid': '9d3e6c93-f3fe-422b-a65f-6457a4a272cb',\n",
       "              'value': array([-0.04087147, -0.02041778, -0.0047331 , ..., -0.9426848 , -0.8584828 ,\n",
       "                              -0.72851294], dtype=float32),\n",
       "              'x': array([7.45000000e-05, 7.45000000e-05, 7.45000000e-05, ..., 1.48999926e+02,\n",
       "                          1.48999926e+02, 1.48999926e+02]),\n",
       "              'y': array([7.45000000e-05, 7.45000000e-05, 7.45000000e-05, ..., 1.48999926e+02,\n",
       "                          1.48999926e+02, 1.48999926e+02]),\n",
       "              'z': array([7.45000000e-05, 2.01358600e+00, 4.02709750e+00, ..., 1.44972903e+02,\n",
       "                          1.46986414e+02, 1.48999926e+02])}],\n",
       "    'layout': {'scene': {'xaxis': {'showticklabels': False},\n",
       "                         'yaxis': {'showticklabels': False},\n",
       "                         'zaxis': {'showticklabels': False}},\n",
       "               'template': '...'}\n",
       "})"
      ]
     },
     "execution_count": 4,
     "metadata": {},
     "output_type": "execute_result"
    }
   ],
   "source": [
    "fig_iso = go.FigureWidget()\n",
    "isosurface = fig_iso.add_trace(go.Isosurface(\n",
    "    x=X.flatten(),\n",
    "    y=Y.flatten(),\n",
    "    z=Z.flatten(),\n",
    "    value=scalar_values.flatten(),\n",
    "    isomin=0.0,\n",
    "    isomax=0.0,\n",
    "    cmin=np.min(scalar_values),\n",
    "    cmax=np.max(scalar_values),\n",
    "    colorscale='plasma',\n",
    "    showscale=False\n",
    "))\n",
    "fig_iso.update_layout(scene=dict(\n",
    "    xaxis=dict(showticklabels=False),\n",
    "    yaxis=dict(showticklabels=False),\n",
    "    zaxis=dict(showticklabels=False)\n",
    "))"
   ]
  },
  {
   "cell_type": "markdown",
   "metadata": {},
   "source": [
    "## CREATING THE INITIAL HISTOGRAM FOR COMPLETE DATA"
   ]
  },
  {
   "cell_type": "code",
   "execution_count": 5,
   "metadata": {
    "id": "vEPrwpkdmYGm"
   },
   "outputs": [
    {
     "data": {
      "application/vnd.jupyter.widget-view+json": {
       "model_id": "0472e678d52845c185388538e75dc88e",
       "version_major": 2,
       "version_minor": 0
      },
      "text/plain": [
       "FigureWidget({\n",
       "    'data': [{'marker': {'color': 'blue'},\n",
       "              'nbinsx': 30,\n",
       "              'opacity': 0.7,\n",
       "              'type': 'histogram',\n",
       "              'uid': 'a8adf5db-71e5-482f-969a-4a5cc1d52657',\n",
       "              'x': array([-0.04087147, -0.02041778, -0.0047331 , ..., -0.9426848 , -0.8584828 ,\n",
       "                          -0.72851294], dtype=float32)}],\n",
       "    'layout': {'template': '...',\n",
       "               'xaxis': {'title': {'text': 'Vortex Scalar Values'}},\n",
       "               'yaxis': {'title': {'text': 'Frequency'}}}\n",
       "})"
      ]
     },
     "execution_count": 5,
     "metadata": {},
     "output_type": "execute_result"
    }
   ],
   "source": [
    "subset_data = scalar_values.flatten()\n",
    "fig_histo = go.FigureWidget()\n",
    "histogram = fig_histo.add_trace(go.Histogram(\n",
    "    x=subset_data,\n",
    "    marker=dict(color='blue'),\n",
    "    opacity=0.7,\n",
    "    nbinsx=30\n",
    "))\n",
    "histogram.update_layout(\n",
    "            xaxis_title='Vortex Scalar Values',\n",
    "            yaxis_title='Frequency'\n",
    "        )"
   ]
  },
  {
   "cell_type": "markdown",
   "metadata": {},
   "source": [
    "## CREATING SLIDER AND BUTTON WITH THE FUNCTION THAT CHANGES ISOSURAFCE AND HISTOGRAM"
   ]
  },
  {
   "cell_type": "code",
   "execution_count": 6,
   "metadata": {
    "colab": {
     "base_uri": "https://localhost:8080/",
     "height": 49,
     "referenced_widgets": [
      "ca9ea3e0f94842548d7eaf666290fe17",
      "f6f2e075d81c4e55b938a245e4bb6d4b",
      "ed50531ea5914c3d830a66855fee4578",
      "fdb602880e3143ccb8aab7470e1d4cec",
      "ba0b91f811ec4b3b98247927913966b9"
     ]
    },
    "id": "vGYMWzClo4Zt",
    "outputId": "61d9fe8c-ee58-4786-cfa1-fc6e3b93dd23"
   },
   "outputs": [],
   "source": [
    "flag = 0\n",
    "def func_for_update(isovalue):\n",
    "    global flag\n",
    "    isosurface.data[0].isomin = isovalue\n",
    "    isosurface.data[0].isomax = isovalue\n",
    "    if(round(isovalue,2)==0.0 and flag<=1):\n",
    "        subset_data = scalar_values.flatten()\n",
    "        flag += 1\n",
    "    elif(flag>1):\n",
    "        subset_data = scalar_values[(scalar_values >= isovalue - 0.25) & (scalar_values <= isovalue + 0.25)].flatten()\n",
    "    with histogram.batch_update():\n",
    "        histogram.data[0].x = subset_data\n",
    "    isosurface.update_traces()\n",
    "\n",
    "widget1 = widgets.FloatSlider(value=0.0, min=np.min(scalar_values), max=np.max(scalar_values), step=0.01, \n",
    "                              description=\"Isovalue:\", layout=widgets.Layout(width='50%'), continous_update=False)\n",
    "output = widgets.interactive_output(func_for_update, {'isovalue':widget1})\n",
    "\n",
    "def reset_func(isovalue):\n",
    "    global flag\n",
    "    widget1.value=0.0\n",
    "    flag = 0\n",
    "    func_for_update(0.0)\n",
    "\n",
    "button = widgets.Button(description=\"Reset\")\n",
    "button.on_click(reset_func)"
   ]
  },
  {
   "cell_type": "markdown",
   "metadata": {},
   "source": [
    "## DISPLAYING ALL THE COMPONENTS TOGETHER"
   ]
  },
  {
   "cell_type": "code",
   "execution_count": 7,
   "metadata": {
    "colab": {
     "base_uri": "https://localhost:8080/",
     "height": 686
    },
    "id": "uob2ATWQ7tQ3",
    "outputId": "fc7eb3be-3966-4e42-cf3d-d3e758342d98",
    "scrolled": true
   },
   "outputs": [
    {
     "data": {
      "application/vnd.jupyter.widget-view+json": {
       "model_id": "4e03495455a3472bb3c239224de26865",
       "version_major": 2,
       "version_minor": 0
      },
      "text/plain": [
       "VBox(children=(HBox(children=(FloatSlider(value=0.0, description='Isovalue:', layout=Layout(width='50%'), max=…"
      ]
     },
     "metadata": {},
     "output_type": "display_data"
    }
   ],
   "source": [
    "final_display = widgets.VBox([widgets.HBox([widget1, button]), widgets.HBox([isosurface, histogram])])\n",
    "display(final_display)"
   ]
  },
  {
   "cell_type": "code",
   "execution_count": null,
   "metadata": {},
   "outputs": [],
   "source": []
  }
 ],
 "metadata": {
  "colab": {
   "provenance": []
  },
  "kernelspec": {
   "display_name": "Python 3 (ipykernel)",
   "language": "python",
   "name": "python3"
  },
  "language_info": {
   "codemirror_mode": {
    "name": "ipython",
    "version": 3
   },
   "file_extension": ".py",
   "mimetype": "text/x-python",
   "name": "python",
   "nbconvert_exporter": "python",
   "pygments_lexer": "ipython3",
   "version": "3.11.5"
  },
  "widgets": {
   "application/vnd.jupyter.widget-state+json": {
    "ba0b91f811ec4b3b98247927913966b9": {
     "model_module": "@jupyter-widgets/base",
     "model_module_version": "1.2.0",
     "model_name": "LayoutModel",
     "state": {
      "_model_module": "@jupyter-widgets/base",
      "_model_module_version": "1.2.0",
      "_model_name": "LayoutModel",
      "_view_count": null,
      "_view_module": "@jupyter-widgets/base",
      "_view_module_version": "1.2.0",
      "_view_name": "LayoutView",
      "align_content": null,
      "align_items": null,
      "align_self": null,
      "border": null,
      "bottom": null,
      "display": null,
      "flex": null,
      "flex_flow": null,
      "grid_area": null,
      "grid_auto_columns": null,
      "grid_auto_flow": null,
      "grid_auto_rows": null,
      "grid_column": null,
      "grid_gap": null,
      "grid_row": null,
      "grid_template_areas": null,
      "grid_template_columns": null,
      "grid_template_rows": null,
      "height": null,
      "justify_content": null,
      "justify_items": null,
      "left": null,
      "margin": null,
      "max_height": null,
      "max_width": null,
      "min_height": null,
      "min_width": null,
      "object_fit": null,
      "object_position": null,
      "order": null,
      "overflow": null,
      "overflow_x": null,
      "overflow_y": null,
      "padding": null,
      "right": null,
      "top": null,
      "visibility": null,
      "width": null
     }
    },
    "ca9ea3e0f94842548d7eaf666290fe17": {
     "model_module": "@jupyter-widgets/controls",
     "model_module_version": "1.5.0",
     "model_name": "FloatSliderModel",
     "state": {
      "_dom_classes": [],
      "_model_module": "@jupyter-widgets/controls",
      "_model_module_version": "1.5.0",
      "_model_name": "FloatSliderModel",
      "_view_count": null,
      "_view_module": "@jupyter-widgets/controls",
      "_view_module_version": "1.5.0",
      "_view_name": "FloatSliderView",
      "continuous_update": true,
      "description": "isovalue",
      "description_tooltip": null,
      "disabled": false,
      "layout": "IPY_MODEL_f6f2e075d81c4e55b938a245e4bb6d4b",
      "max": 0.43280163407325745,
      "min": -0.9935540556907654,
      "orientation": "horizontal",
      "readout": true,
      "readout_format": ".2f",
      "step": 0.25,
      "style": "IPY_MODEL_ed50531ea5914c3d830a66855fee4578",
      "value": -0.74355
     }
    },
    "ed50531ea5914c3d830a66855fee4578": {
     "model_module": "@jupyter-widgets/controls",
     "model_module_version": "1.5.0",
     "model_name": "SliderStyleModel",
     "state": {
      "_model_module": "@jupyter-widgets/controls",
      "_model_module_version": "1.5.0",
      "_model_name": "SliderStyleModel",
      "_view_count": null,
      "_view_module": "@jupyter-widgets/base",
      "_view_module_version": "1.2.0",
      "_view_name": "StyleView",
      "description_width": "",
      "handle_color": null
     }
    },
    "f6f2e075d81c4e55b938a245e4bb6d4b": {
     "model_module": "@jupyter-widgets/base",
     "model_module_version": "1.2.0",
     "model_name": "LayoutModel",
     "state": {
      "_model_module": "@jupyter-widgets/base",
      "_model_module_version": "1.2.0",
      "_model_name": "LayoutModel",
      "_view_count": null,
      "_view_module": "@jupyter-widgets/base",
      "_view_module_version": "1.2.0",
      "_view_name": "LayoutView",
      "align_content": null,
      "align_items": null,
      "align_self": null,
      "border": null,
      "bottom": null,
      "display": null,
      "flex": null,
      "flex_flow": null,
      "grid_area": null,
      "grid_auto_columns": null,
      "grid_auto_flow": null,
      "grid_auto_rows": null,
      "grid_column": null,
      "grid_gap": null,
      "grid_row": null,
      "grid_template_areas": null,
      "grid_template_columns": null,
      "grid_template_rows": null,
      "height": null,
      "justify_content": null,
      "justify_items": null,
      "left": null,
      "margin": null,
      "max_height": null,
      "max_width": null,
      "min_height": null,
      "min_width": null,
      "object_fit": null,
      "object_position": null,
      "order": null,
      "overflow": null,
      "overflow_x": null,
      "overflow_y": null,
      "padding": null,
      "right": null,
      "top": null,
      "visibility": null,
      "width": null
     }
    },
    "fdb602880e3143ccb8aab7470e1d4cec": {
     "model_module": "@jupyter-widgets/output",
     "model_module_version": "1.0.0",
     "model_name": "OutputModel",
     "state": {
      "_dom_classes": [],
      "_model_module": "@jupyter-widgets/output",
      "_model_module_version": "1.0.0",
      "_model_name": "OutputModel",
      "_view_count": null,
      "_view_module": "@jupyter-widgets/output",
      "_view_module_version": "1.0.0",
      "_view_name": "OutputView",
      "layout": "IPY_MODEL_ba0b91f811ec4b3b98247927913966b9",
      "msg_id": "",
      "outputs": []
     }
    }
   }
  }
 },
 "nbformat": 4,
 "nbformat_minor": 4
}
